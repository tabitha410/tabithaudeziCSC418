{
 "cells": [
  {
   "cell_type": "code",
   "execution_count": null,
   "id": "f3f30980",
   "metadata": {},
   "outputs": [],
   "source": [
    "# Import the necessary libraries\n",
    "import cv2\n",
    "import matplotlib.pyplot as plt\n",
    "import numpy as np\n",
    "\n",
    "# Define a list of image paths\n",
    "img_path = ['img2/miracle.jpg', 'img2/bimpe.jpg', 'img2/chima.jpg', 'img2/clement.jpg', 'img2/dumebi.jpg', \n",
    "            'img2/tomi.jpg', 'img2/love.jpg', 'img2/maryam.jpg', 'img2/precious.jpg', 'img2/oyinda.jpg']\n",
    "\n",
    "# Get input from the user\n",
    "enter_email = input(\"Enter Email: \")\n",
    "\n",
    "# Check if the entered email is \n",
    "if '@'in enter_email.lower():\n",
    "    enter_age = int(input(\"Enter Age: \"))  # Get age input\n",
    "\n",
    "    # Check if the entered age is above 18\n",
    "    if enter_age >= 18:\n",
    "        print(\"Welcome!!\")\n",
    "        \n",
    "        \n",
    "        print(\"What image enhancement technique would you like to perform on \" + enter_username + \"'s image?\")\n",
    "        choice = input(\"Enter A for addition, B for brightness & contrast, S for sharpening, R to remove noise, I for image scaling and V for inverse transform: \")\n",
    "        \n",
    "        match choice.upper():\n",
    "            case \"A\":\n",
    "                image_addition(index)\n",
    "            case \"B\":\n",
    "                brightness_contrast()\n",
    "            case \"S\":\n",
    "                sharpening()\n",
    "            case \"R\":\n",
    "                remove_noise()\n",
    "            case \"I\":\n",
    "                image_scaling()\n",
    "            case \"V\":\n",
    "                inverse_transform()\n",
    "            case _:\n",
    "                print(\"Invalid choice\")\n",
    "        \n",
    "    else:\n",
    "        print(\"Sorry, you must be above 18 to access our art collection\")\n",
    "else:\n",
    "    print(\"Invalid email\")"
   ]
  }
 ],
 "metadata": {
  "kernelspec": {
   "display_name": "Python 3 (ipykernel)",
   "language": "python",
   "name": "python3"
  },
  "language_info": {
   "codemirror_mode": {
    "name": "ipython",
    "version": 3
   },
   "file_extension": ".py",
   "mimetype": "text/x-python",
   "name": "python",
   "nbconvert_exporter": "python",
   "pygments_lexer": "ipython3",
   "version": "3.11.3"
  }
 },
 "nbformat": 4,
 "nbformat_minor": 5
}
