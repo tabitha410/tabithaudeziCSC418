{
 "cells": [
  {
   "cell_type": "code",
   "execution_count": null,
   "id": "9ca82400",
   "metadata": {},
   "outputs": [
    {
     "name": "stdout",
     "output_type": "stream",
     "text": [
      "Enter Username: darlington\n",
      "Enter Password: 7\n",
      "You are Logged in\n"
     ]
    }
   ],
   "source": [
    "# Import the openCV library\n",
    "import cv2\n",
    "\n",
    "# Define lists of usernames and passwords\n",
    "username = ['enase', 'kingsley', 'chris', 'donatus', 'ikechukwu', 'sola', 'darlington', 'nneaka', 'adaora', 'peter']\n",
    "password = [7, 6, 8, 7, 6, 3, 7, 8, 5, 7]\n",
    "img_path = ['img/enase.jpg', 'img/kingsley.jpg', 'img/chris.jpg', 'img/donatus.png', 'img/ikechukwu.jpg', 'img/Sola.jpg', 'img/darlington.jpg', 'img/nneaka.png', 'img/adaora.jpg','img/peter.jpg']\n",
    "\n",
    "# Get input from the user\n",
    "enter_username = input(\"Enter Username: \")\n",
    "\n",
    "# Check if the entered username exists in the list\n",
    "if enter_username.lower() in username:\n",
    "    index = username.index(enter_username.lower())  # Get the index of the username\n",
    "    enter_password = int(input(\"Enter Password: \"))  # Get password input\n",
    "\n",
    "    # Check if the entered password matches the stored password\n",
    "    if enter_password == password[index]:\n",
    "        print(\"You are Logged in\")\n",
    "        \n",
    "        # Reading the image using imread() function\n",
    "        image = img_path[index]\n",
    "        img = cv2.imread(image)\n",
    "        \n",
    "        # Window name in which image is displayed\n",
    "        window_name = 'Profile Image'\n",
    "\n",
    "        # Display image\n",
    "        cv2.imshow(window_name, img)\n",
    "\n",
    "        # Hold the window\n",
    "        cv2.waitKey(0)\n",
    "\n",
    "        # Remove/delete created GUI window from screen and memory\n",
    "        cv2.destroyAllWindows()\n",
    "    else:\n",
    "        print(\"Incorrect password\")\n",
    "else:\n",
    "    print(\"Username not found\")\n"
   ]
  },
  {
   "cell_type": "code",
   "execution_count": null,
   "id": "a6844e2f",
   "metadata": {},
   "outputs": [],
   "source": []
  }
 ],
 "metadata": {
  "kernelspec": {
   "display_name": "Python 3 (ipykernel)",
   "language": "python",
   "name": "python3"
  },
  "language_info": {
   "codemirror_mode": {
    "name": "ipython",
    "version": 3
   },
   "file_extension": ".py",
   "mimetype": "text/x-python",
   "name": "python",
   "nbconvert_exporter": "python",
   "pygments_lexer": "ipython3",
   "version": "3.11.3"
  }
 },
 "nbformat": 4,
 "nbformat_minor": 5
}
