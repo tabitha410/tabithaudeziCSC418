{
 "cells": [
  {
   "cell_type": "code",
   "execution_count": null,
   "id": "94986dd9",
   "metadata": {},
   "outputs": [],
   "source": [
    "# Canny Edge detection\n",
    "\n",
    "import cv2\n",
    "\n",
    "# Load the image\n",
    "image = cv2.imread('img/tomi.jpg', cv2.IMREAD_GRAYSCALE)\n",
    "\n",
    "# resize images\n",
    "image = cv2.resize(image, (400, 400))\n",
    "\n",
    "# Perform Canny edge detection\n",
    "edges = cv2.Canny(image, 100, 200)  # Adjust the threshold values as needed\n",
    "\n",
    "# Display the original image and the detected edges\n",
    "cv2.imshow('Original', image)\n",
    "cv2.imshow('Edges', edges)\n",
    "\n",
    "# Wait for a key press and close all windows\n",
    "cv2.waitKey(0)\n",
    "cv2.destroyAllWindows()\n"
   ]
  },
  {
   "cell_type": "code",
   "execution_count": null,
   "id": "53715cc3",
   "metadata": {},
   "outputs": [],
   "source": []
  }
 ],
 "metadata": {
  "kernelspec": {
   "display_name": "Python 3 (ipykernel)",
   "language": "python",
   "name": "python3"
  },
  "language_info": {
   "codemirror_mode": {
    "name": "ipython",
    "version": 3
   },
   "file_extension": ".py",
   "mimetype": "text/x-python",
   "name": "python",
   "nbconvert_exporter": "python",
   "pygments_lexer": "ipython3",
   "version": "3.11.3"
  }
 },
 "nbformat": 4,
 "nbformat_minor": 5
}
