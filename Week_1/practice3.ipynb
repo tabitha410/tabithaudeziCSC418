{
 "cells": [
  {
   "cell_type": "code",
   "execution_count": 1,
   "id": "acf25a25",
   "metadata": {},
   "outputs": [
    {
     "name": "stdout",
     "output_type": "stream",
     "text": [
      "Before saving image: \n",
      "['beach.jpg', 'lagos.webp', 'vr_headset.webp']\n",
      "After saving image: \n",
      "['beach.jpg', 'grayImage_vr.webp', 'lagos.webp', 'vr_headset.webp']\n",
      "Successfully saved\n"
     ]
    }
   ],
   "source": [
    "# Python program to explain cv2.imwrite() method\n",
    "\n",
    "# Importing cv2\n",
    "import cv2\n",
    "\n",
    "# importing os module\n",
    "import os\n",
    "\n",
    "# Image path\n",
    "image_path = r'C:\\Users\\DELL\\Documents\\GitHub\\tabithaudeziCSC418\\Week_1\\img\\vr_headset.webp'\n",
    "\n",
    "# Image directory\n",
    "directory = r'C:\\Users\\DELL\\Documents\\GitHub\\tabithaudeziCSC418\\Week_1\\img'\n",
    "\n",
    "# Using cv2.imread() method to read the image\n",
    "img = cv2.imread(image_path, 0)\n",
    "\n",
    "# Change the current directory to specified directory\n",
    "os.chdir(directory)\n",
    "\n",
    "# List files and directories\n",
    "print(\"Before saving image: \")\n",
    "print(os.listdir(directory))\n",
    "\n",
    "# Filename\n",
    "filename = 'grayImage_vr.webp'\n",
    "\n",
    "# Using cv2.imwrite() method to save the image\n",
    "cv2.imwrite(filename, img)\n",
    "\n",
    "# List files and directories\n",
    "print(\"After saving image: \")\n",
    "print(os.listdir(directory))\n",
    "\n",
    "print('Successfully saved')"
   ]
  },
  {
   "cell_type": "code",
   "execution_count": null,
   "id": "cc16a0ec",
   "metadata": {},
   "outputs": [],
   "source": []
  }
 ],
 "metadata": {
  "kernelspec": {
   "display_name": "Python 3 (ipykernel)",
   "language": "python",
   "name": "python3"
  },
  "language_info": {
   "codemirror_mode": {
    "name": "ipython",
    "version": 3
   },
   "file_extension": ".py",
   "mimetype": "text/x-python",
   "name": "python",
   "nbconvert_exporter": "python",
   "pygments_lexer": "ipython3",
   "version": "3.11.3"
  }
 },
 "nbformat": 4,
 "nbformat_minor": 5
}
