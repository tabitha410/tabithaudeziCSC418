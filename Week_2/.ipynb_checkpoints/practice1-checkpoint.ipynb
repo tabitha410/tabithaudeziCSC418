{
 "cells": [
  {
   "cell_type": "code",
   "execution_count": 5,
   "id": "690477cf",
   "metadata": {},
   "outputs": [],
   "source": [
    "import cv2\n",
    "\n",
    "image = cv2.imread('img/class_rgb.png')\n",
    "\n",
    "# The split method separates color spaces\n",
    "B, G, R = cv2.split(image)\n",
    "\n",
    "# Corresponding channels are separated\n",
    "cv2.imshow(\"original\", image)\n",
    "cv2.waitKey(6000)\n",
    "\n",
    "cv2.imshow(\"blue\", B)\n",
    "cv2.waitKey(6000)\n",
    "\n",
    "cv2.imshow(\"Green\", G)\n",
    "cv2.waitKey(6000)\n",
    "\n",
    "cv2.imshow(\"red\", R)\n",
    "cv2.waitKey(6000)\n",
    "\n",
    "cv2.destroyAllWindows()"
   ]
  },
  {
   "cell_type": "code",
   "execution_count": null,
   "id": "b5c79493",
   "metadata": {},
   "outputs": [],
   "source": []
  }
 ],
 "metadata": {
  "kernelspec": {
   "display_name": "Python 3 (ipykernel)",
   "language": "python",
   "name": "python3"
  },
  "language_info": {
   "codemirror_mode": {
    "name": "ipython",
    "version": 3
   },
   "file_extension": ".py",
   "mimetype": "text/x-python",
   "name": "python",
   "nbconvert_exporter": "python",
   "pygments_lexer": "ipython3",
   "version": "3.11.3"
  }
 },
 "nbformat": 4,
 "nbformat_minor": 5
}
